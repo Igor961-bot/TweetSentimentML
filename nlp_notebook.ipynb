{
 "cells": [
  {
   "cell_type": "code",
   "execution_count": 30,
   "metadata": {},
   "outputs": [],
   "source": [
    "import pandas as pd\n",
    "import numpy as np\n",
    "import matplotlib.pyplot as plt\n",
    "import seaborn as sns\n",
    "df = pd.read_csv('Corona_NLP_train.csv', encoding='latin1')"
   ]
  },
  {
   "cell_type": "code",
   "execution_count": 21,
   "metadata": {},
   "outputs": [],
   "source": [
    "# do wyrzucenia bo wszystkie są unikatowe\n",
    "#df[\"ScreenName\"].value_counts().sort_values()\n",
    "#df[\"UserName\"].value_counts().sort_values()\n",
    "\n",
    "df = df.drop(columns=[\"ScreenName\", \"UserName\"])"
   ]
  },
  {
   "cell_type": "code",
   "execution_count": 34,
   "metadata": {},
   "outputs": [
    {
     "data": {
      "text/plain": [
       "UserName                0\n",
       "ScreenName              0\n",
       "Location             8590\n",
       "TweetAt                 0\n",
       "OriginalTweet           0\n",
       "Sentiment               0\n",
       "is_at_sign              0\n",
       "how_many_at_signs       0\n",
       "dtype: int64"
      ]
     },
     "execution_count": 34,
     "metadata": {},
     "output_type": "execute_result"
    }
   ],
   "source": [
    "df.isna().sum()"
   ]
  },
  {
   "cell_type": "code",
   "execution_count": 24,
   "metadata": {},
   "outputs": [
    {
     "data": {
      "text/plain": [
       "Index(['Location', 'OriginalTweet', 'Sentiment', 'Day', 'Month'], dtype='object')"
      ]
     },
     "execution_count": 24,
     "metadata": {},
     "output_type": "execute_result"
    }
   ],
   "source": [
    "df.columns"
   ]
  },
  {
   "cell_type": "code",
   "execution_count": 22,
   "metadata": {},
   "outputs": [],
   "source": [
    "df[\"Day\"] = df[\"TweetAt\"].apply(lambda x: int(x[:2]))\n",
    "df[\"Month\"] = df[\"TweetAt\"].apply(lambda x: int(x[3:5]))\n",
    "df = df.drop(columns=[\"TweetAt\"])"
   ]
  },
  {
   "cell_type": "code",
   "execution_count": 10,
   "metadata": {},
   "outputs": [],
   "source": [
    "country_abbreviations = [\n",
    "    \"AF\", \"AX\", \"AL\", \"DZ\", \"AS\", \"AD\", \"AO\", \"AI\", \"AQ\", \"AG\", \"AR\", \"AM\", \"AW\", \"AU\", \"AT\", \"AZ\",\n",
    "    \"BS\", \"BH\", \"BD\", \"BB\", \"BY\", \"BE\", \"BZ\", \"BJ\", \"BM\", \"BT\", \"BO\", \"BQ\", \"BA\", \"BW\", \"BV\", \"BR\",\n",
    "    \"IO\", \"BN\", \"BG\", \"BF\", \"BI\", \"CV\", \"KH\", \"CM\", \"CA\", \"KY\", \"CF\", \"TD\", \"CL\", \"CN\", \"CX\", \"CC\",\n",
    "    \"CO\", \"KM\", \"CD\", \"CG\", \"CK\", \"CR\", \"CI\", \"HR\", \"CU\", \"CW\", \"CY\", \"CZ\", \"DK\", \"DJ\", \"DM\", \"DO\",\n",
    "    \"EC\", \"EG\", \"SV\", \"GQ\", \"ER\", \"EE\", \"SZ\", \"ET\", \"FK\", \"FO\", \"FJ\", \"FI\", \"FR\", \"GF\", \"PF\", \"TF\",\n",
    "    \"GA\", \"GM\", \"GE\", \"DE\", \"GH\", \"GI\", \"GR\", \"GL\", \"GD\", \"GP\", \"GU\", \"GT\", \"GG\", \"GN\", \"GW\", \"GY\",\n",
    "    \"HT\", \"HM\", \"VA\", \"HN\", \"HK\", \"HU\", \"IS\", \"IN\", \"ID\", \"IR\", \"IQ\", \"IE\", \"IM\", \"IL\", \"IT\", \"JM\",\n",
    "    \"JP\", \"JE\", \"JO\", \"KZ\", \"KE\", \"KI\", \"KP\", \"KR\", \"KW\", \"KG\", \"LA\", \"LV\", \"LB\", \"LS\", \"LR\", \"LY\",\n",
    "    \"LI\", \"LT\", \"LU\", \"MO\", \"MG\", \"MW\", \"MY\", \"MV\", \"ML\", \"MT\", \"MH\", \"MQ\", \"MR\", \"MU\", \"YT\", \"MX\",\n",
    "    \"FM\", \"MD\", \"MC\", \"MN\", \"ME\", \"MS\", \"MA\", \"MZ\", \"MM\", \"NA\", \"NR\", \"NP\", \"NL\", \"NC\", \"NZ\", \"NI\",\n",
    "    \"NE\", \"NG\", \"NU\", \"NF\", \"MP\", \"NO\", \"OM\", \"PK\", \"PW\", \"PS\", \"PA\", \"PG\", \"PY\", \"PE\", \"PH\", \"PN\",\n",
    "    \"PL\", \"PT\", \"PR\", \"QA\", \"MK\", \"RO\", \"RU\", \"RW\", \"RE\", \"BL\", \"SH\", \"KN\", \"LC\", \"MF\", \"PM\", \"VC\",\n",
    "    \"WS\", \"SM\", \"ST\", \"SA\", \"SN\", \"RS\", \"SC\", \"SL\", \"SG\", \"SX\", \"SK\", \"SI\", \"SB\", \"SO\", \"ZA\", \"GS\",\n",
    "    \"SS\", \"ES\", \"LK\", \"SD\", \"SR\", \"SJ\", \"SE\", \"CH\", \"SY\", \"TW\", \"TJ\", \"TZ\", \"TH\", \"TL\", \"TG\", \"TK\",\n",
    "    \"TO\", \"TT\", \"TN\", \"TR\", \"TM\", \"TC\", \"TV\", \"UG\", \"UA\", \"AE\", \"GB\", \"US\", \"UM\", \"UY\", \"UZ\", \"VU\",\n",
    "    \"VE\", \"VN\", \"VG\", \"VI\", \"WF\", \"EH\", \"YE\", \"ZM\", \"ZW\"\n",
    "]"
   ]
  },
  {
   "cell_type": "code",
   "execution_count": 11,
   "metadata": {},
   "outputs": [],
   "source": [
    "countries = [\n",
    "    \"Afghanistan\", \"Åland Islands\", \"Albania\", \"Algeria\", \"American Samoa\", \"Andorra\", \"Angola\", \"Anguilla\", \n",
    "    \"Antarctica\", \"Antigua and Barbuda\", \"Argentina\", \"Armenia\", \"Aruba\", \"Australia\", \"Austria\", \"Azerbaijan\", \n",
    "    \"Bahamas\", \"Bahrain\", \"Bangladesh\", \"Barbados\", \"Belarus\", \"Belgium\", \"Belize\", \"Benin\", \"Bermuda\", \"Bhutan\", \n",
    "    \"Bolivia\", \"Bonaire, Sint Eustatius and Saba\", \"Bosnia and Herzegovina\", \"Botswana\", \"Bouvet Island\", \"Brazil\", \n",
    "    \"British Indian Ocean Territory\", \"Brunei Darussalam\", \"Bulgaria\", \"Burkina Faso\", \"Burundi\", \"Cabo Verde\", \n",
    "    \"Cambodia\", \"Cameroon\", \"Canada\", \"Cayman Islands\", \"Central African Republic\", \"Chad\", \"Chile\", \"China\", \n",
    "    \"Christmas Island\", \"Cocos (Keeling) Islands\", \"Colombia\", \"Comoros\", \"Congo (DRC)\", \"Congo\", \"Cook Islands\", \n",
    "    \"Costa Rica\", \"Côte d'Ivoire\", \"Croatia\", \"Cuba\", \"Curaçao\", \"Cyprus\", \"Czechia\", \"Denmark\", \"Djibouti\", \n",
    "    \"Dominica\", \"Dominican Republic\", \"Ecuador\", \"Egypt\", \"El Salvador\", \"Equatorial Guinea\", \"Eritrea\", \"Estonia\", \n",
    "    \"Eswatini\", \"Ethiopia\", \"Falkland Islands\", \"Faroe Islands\", \"Fiji\", \"Finland\", \"France\", \"French Guiana\", \n",
    "    \"French Polynesia\", \"French Southern Territories\", \"Gabon\", \"Gambia\", \"Georgia\", \"Germany\", \"Ghana\", \"Gibraltar\", \n",
    "    \"Greece\", \"Greenland\", \"Grenada\", \"Guadeloupe\", \"Guam\", \"Guatemala\", \"Guernsey\", \"Guinea\", \"Guinea-Bissau\", \n",
    "    \"Guyana\", \"Haiti\", \"Heard Island and McDonald Islands\", \"Vatican City\", \"Honduras\", \"Hong Kong\", \"Hungary\", \n",
    "    \"Iceland\", \"India\", \"Indonesia\", \"Iran\", \"Iraq\", \"Ireland\", \"Isle of Man\", \"Israel\", \"Italy\", \"Jamaica\", \"Japan\", \n",
    "    \"Jersey\", \"Jordan\", \"Kazakhstan\", \"Kenya\", \"Kiribati\", \"Korea (North)\", \"Korea (South)\", \"Kuwait\", \"Kyrgyzstan\", \n",
    "    \"Lao People's Democratic Republic\", \"Latvia\", \"Lebanon\", \"Lesotho\", \"Liberia\", \"Libya\", \"Liechtenstein\", \n",
    "    \"Lithuania\", \"Luxembourg\", \"Macao\", \"Madagascar\", \"Malawi\", \"Malaysia\", \"Maldives\", \"Mali\", \"Malta\", \n",
    "    \"Marshall Islands\", \"Martinique\", \"Mauritania\", \"Mauritius\", \"Mayotte\", \"Mexico\", \"Micronesia\", \"Moldova\", \n",
    "    \"Monaco\", \"Mongolia\", \"Montenegro\", \"Montserrat\", \"Morocco\", \"Mozambique\", \"Myanmar\", \"Namibia\", \"Nauru\", \n",
    "    \"Nepal\", \"Netherlands\", \"New Caledonia\", \"New Zealand\", \"Nicaragua\", \"Niger\", \"Nigeria\", \"Niue\", \"Norfolk Island\", \n",
    "    \"Northern Mariana Islands\", \"Norway\", \"Oman\", \"Pakistan\", \"Palau\", \"Palestine\", \"Panama\", \"Papua New Guinea\", \n",
    "    \"Paraguay\", \"Peru\", \"Philippines\", \"Pitcairn\", \"Poland\", \"Portugal\", \"Puerto Rico\", \"Qatar\", \"North Macedonia\", \n",
    "    \"Romania\", \"Russia\", \"Rwanda\", \"Réunion\", \"Saint Barthélemy\", \"Saint Helena\", \"Saint Kitts and Nevis\", \n",
    "    \"Saint Lucia\", \"Saint Martin (French part)\", \"Saint Pierre and Miquelon\", \"Saint Vincent and the Grenadines\", \n",
    "    \"Samoa\", \"San Marino\", \"Sao Tome and Principe\", \"Saudi Arabia\", \"Senegal\", \"Serbia\", \"Seychelles\", \"Sierra Leone\", \n",
    "    \"Singapore\", \"Sint Maarten (Dutch part)\", \"Slovakia\", \"Slovenia\", \"Solomon Islands\", \"Somalia\", \"South Africa\", \n",
    "    \"South Georgia and the South Sandwich Islands\", \"South Sudan\", \"Spain\", \"Sri Lanka\", \"Sudan\", \"Suriname\", \n",
    "    \"Svalbard and Jan Mayen\", \"Sweden\", \"Switzerland\", \"Syria\", \"Taiwan\", \"Tajikistan\", \"Tanzania\", \"Thailand\", \n",
    "    \"Timor-Leste\", \"Togo\", \"Tokelau\", \"Tonga\", \"Trinidad and Tobago\", \"Tunisia\", \"Turkey\", \"Turkmenistan\", \n",
    "    \"Turks and Caicos Islands\", \"Tuvalu\", \"Uganda\", \"Ukraine\", \"United Arab Emirates\", \"United Kingdom\", \n",
    "    \"United States\", \"United States Minor Outlying Islands\", \"Uruguay\", \"Uzbekistan\", \"Vanuatu\", \"Venezuela\", \n",
    "    \"Vietnam\", \"Virgin Islands (British)\", \"Virgin Islands (U.S.)\", \"Wallis and Futuna\", \"Western Sahara\", \"Yemen\", \n",
    "    \"Zambia\", \"Zimbabwe\", \"England\", \"Scotland\", \"Wales\", \"Northern Ireland\"\n",
    "]\n"
   ]
  },
  {
   "cell_type": "code",
   "execution_count": 12,
   "metadata": {},
   "outputs": [],
   "source": [
    "capitals = [\n",
    "    \"Kabul\", \"Mariehamn\", \"Tirana\", \"Algiers\", \"Pago Pago\", \"Andorra la Vella\", \"Luanda\", \"The Valley\", \"\", \"Saint John's\",\n",
    "    \"Buenos Aires\", \"Yerevan\", \"Oranjestad\", \"Canberra\", \"Vienna\", \"Baku\", \"Nassau\", \"Manama\", \"Dhaka\", \"Bridgetown\",\n",
    "    \"Minsk\", \"Brussels\", \"Belmopan\", \"Porto-Novo\", \"Hamilton\", \"Thimphu\", \"Sucre\", \"Kralendijk\", \"Sarajevo\", \"Gaborone\", \"\",\n",
    "    \"Brasília\", \"Diego Garcia\", \"Bandar Seri Begawan\", \"Sofia\", \"Ouagadougou\", \"Gitega\", \"Praia\", \"Phnom Penh\", \"Yaoundé\",\n",
    "    \"Ottawa\", \"George Town\", \"Bangui\", \"N'Djamena\", \"Santiago\", \"Beijing\", \"Flying Fish Cove\", \"West Island\", \"Bogotá\",\n",
    "    \"Moroni\", \"Kinshasa\", \"Brazzaville\", \"Avarua\", \"San José\", \"Yamoussoukro\", \"Zagreb\", \"Havana\", \"Willemstad\", \"Nicosia\",\n",
    "    \"Prague\", \"Copenhagen\", \"Djibouti\", \"Roseau\", \"Santo Domingo\", \"Quito\", \"Cairo\", \"San Salvador\", \"Malabo\", \"Asmara\",\n",
    "    \"Tallinn\", \"Mbabane\", \"Addis Ababa\", \"Stanley\", \"Tórshavn\", \"Suva\", \"Helsinki\", \"Paris\", \"Cayenne\", \"Papeetē\",\n",
    "    \"Port-aux-Français\", \"Libreville\", \"Banjul\", \"Tbilisi\", \"Berlin\", \"Accra\", \"Gibraltar\", \"Athens\", \"Nuuk\", \"St. George's\",\n",
    "    \"Basse-Terre\", \"Hagåtña\", \"Guatemala City\", \"St. Peter Port\", \"Conakry\", \"Bissau\", \"Georgetown\", \"Port-au-Prince\", \"\",\n",
    "    \"Vatican City\", \"Tegucigalpa\", \"Hong Kong\", \"Budapest\", \"Reykjavik\", \"New Delhi\", \"Jakarta\", \"Tehran\", \"Baghdad\",\n",
    "    \"Dublin\", \"Douglas\", \"Jerusalem\", \"Rome\", \"Kingston\", \"Tokyo\", \"Saint Helier\", \"Amman\", \"Nur-Sultan\", \"Nairobi\",\n",
    "    \"South Tarawa\", \"Pyongyang\", \"Seoul\", \"Kuwait City\", \"Bishkek\", \"Vientiane\", \"Riga\", \"Beirut\", \"Maseru\", \"Monrovia\",\n",
    "    \"Tripoli\", \"Vaduz\", \"Vilnius\", \"Luxembourg\", \"Macao\", \"Antananarivo\", \"Lilongwe\", \"Kuala Lumpur\", \"Malé\", \"Bamako\",\n",
    "    \"Valletta\", \"Majuro\", \"Fort-de-France\", \"Nouakchott\", \"Port Louis\", \"Mamoudzou\", \"Mexico City\", \"Palikir\", \"Chișinău\",\n",
    "    \"Monaco\", \"Ulaanbaatar\", \"Podgorica\", \"Plymouth\", \"Rabat\", \"Maputo\", \"Naypyidaw\", \"Windhoek\", \"Yaren\", \"Kathmandu\",\n",
    "    \"Amsterdam\", \"Nouméa\", \"Wellington\", \"Managua\", \"Niamey\", \"Abuja\", \"Alofi\", \"Kingston\", \"Saipan\", \"Oslo\", \"Muscat\",\n",
    "    \"Islamabad\", \"Ngerulmud\", \"Ramallah\", \"Panama City\", \"Port Moresby\", \"Asunción\", \"Lima\", \"Manila\", \"Adamstown\",\n",
    "    \"Warsaw\", \"Lisbon\", \"San Juan\", \"Doha\", \"Skopje\", \"Bucharest\", \"Moscow\", \"Kigali\", \"Saint-Denis\", \"Gustavia\",\n",
    "    \"Jamestown\", \"Basseterre\", \"Castries\", \"Marigot\", \"Saint-Pierre\", \"Kingstown\", \"Apia\", \"San Marino\", \"São Tomé\",\n",
    "    \"Riyadh\", \"Dakar\", \"Belgrade\", \"Victoria\", \"Freetown\", \"Singapore\", \"Philipsburg\", \"Bratislava\", \"Ljubljana\",\n",
    "    \"Honiara\", \"Mogadishu\", \"Pretoria\", \"King Edward Point\", \"Juba\", \"Madrid\", \"Colombo\", \"Khartoum\", \"Paramaribo\",\n",
    "    \"Longyearbyen\", \"Stockholm\", \"Bern\", \"Damascus\", \"Taipei\", \"Dushanbe\", \"Dodoma\", \"Bangkok\", \"Dili\", \"Lomé\", \"Fakaofo\",\n",
    "    \"Nukuʻalofa\", \"Port of Spain\", \"Tunis\", \"Ankara\", \"Ashgabat\", \"Cockburn Town\", \"Funafuti\", \"Kampala\", \"Kyiv\",\n",
    "    \"Abu Dhabi\", \"London\", \"Washington, D.C.\", \"\", \"Montevideo\", \"Tashkent\", \"Port Vila\", \"Caracas\", \"Hanoi\", \"Road Town\",\n",
    "    \"Charlotte Amalie\", \"Mata-Utu\", \"El Aaiún\", \"Sana'a\", \"Lusaka\", \"Harare\", \"London\", \"Edinburgh\", \"Cardiff\", \"Belfast\"\n",
    "]\n",
    "capitals_to_country = dict(zip(capitals, countries))\n"
   ]
  },
  {
   "cell_type": "code",
   "execution_count": 13,
   "metadata": {},
   "outputs": [],
   "source": [
    "us_states = [\n",
    "    \"Alabama\", \"Alaska\", \"Arizona\", \"Arkansas\", \"California\", \"Colorado\", \"Connecticut\", \n",
    "    \"Delaware\", \"Florida\", \"Georgia\", \"Hawaii\", \"Idaho\", \"Illinois\", \"Indiana\", \"Iowa\", \n",
    "    \"Kansas\", \"Kentucky\", \"Louisiana\", \"Maine\", \"Maryland\", \"Massachusetts\", \"Michigan\", \n",
    "    \"Minnesota\", \"Mississippi\", \"Missouri\", \"Montana\", \"Nebraska\", \"Nevada\", \"New Hampshire\", \n",
    "    \"New Jersey\", \"New Mexico\", \"New York\", \"North Carolina\", \"North Dakota\", \"Ohio\", \"Oklahoma\", \n",
    "    \"Oregon\", \"Pennsylvania\", \"Rhode Island\", \"South Carolina\", \"South Dakota\", \"Tennessee\", \n",
    "    \"Texas\", \"Utah\", \"Vermont\", \"Virginia\", \"Washington\", \"West Virginia\", \"Wisconsin\", \"Wyoming\"\n",
    "]"
   ]
  },
  {
   "cell_type": "code",
   "execution_count": 14,
   "metadata": {},
   "outputs": [],
   "source": [
    "us_state_abbreviations = [\n",
    "    \"AL\", \"AK\", \"AZ\", \"AR\", \"CA\", \"CO\", \"CT\", \"DE\", \"FL\", \"GA\",\n",
    "    \"HI\", \"ID\", \"IL\", \"IN\", \"IA\", \"KS\", \"KY\", \"LA\", \"ME\", \"MD\",\n",
    "    \"MA\", \"MI\", \"MN\", \"MS\", \"MO\", \"MT\", \"NE\", \"NV\", \"NH\", \"NJ\",\n",
    "    \"NM\", \"NY\", \"NC\", \"ND\", \"OH\", \"OK\", \"OR\", \"PA\", \"RI\", \"SC\",\n",
    "    \"SD\", \"TN\", \"TX\", \"UT\", \"VT\", \"VA\", \"WA\", \"WV\", \"WI\", \"WY\"\n",
    "]"
   ]
  },
  {
   "cell_type": "code",
   "execution_count": null,
   "metadata": {},
   "outputs": [],
   "source": [
    "def map_to_country(x):\n",
    "    x = str(x)\n",
    "    \n",
    "    if \"USA\" in x:\n",
    "        return \"United States\"\n",
    "    if \"United States\" in x:\n",
    "        return \"United States\"\n",
    "    if \"UK\" in x:\n",
    "        return \"United Kingdom\"\n",
    "    for i in range(len(x)):\n",
    "        for j in range(i + 1, len(x) + 1):\n",
    "            substring = x[i:j]\n",
    "            if substring in us_state_abbreviations:\n",
    "                if substring == \" CA \":\n",
    "                    print(x)\n",
    "                return \"United States\"\n",
    "            if substring in us_states:\n",
    "                if substring == \" CA \":\n",
    "                    print(x)\n",
    "                return \"United States\"\n",
    "            if substring in capitals:\n",
    "                if substring == \" CA \":\n",
    "                    print(x)\n",
    "                return capitals_to_country[substring]\n",
    "            if substring in countries:\n",
    "                if substring == \" CA \":\n",
    "                    print(x)\n",
    "                return substring\n",
    "            if substring in country_abbreviations:\n",
    "                if substring == \" CA \":\n",
    "                    print(x)\n",
    "                return countries[country_abbreviations.index(substring)]\n",
    "                   \n",
    "    return None\n",
    "\n"
   ]
  },
  {
   "cell_type": "code",
   "execution_count": 16,
   "metadata": {},
   "outputs": [],
   "source": [
    "df[\"Country\"] = df[\"Location\"].apply(lambda x: map_to_country(x))"
   ]
  },
  {
   "cell_type": "code",
   "execution_count": 35,
   "metadata": {},
   "outputs": [
    {
     "ename": "AttributeError",
     "evalue": "Axes.set() got an unexpected keyword argument 'figsize'",
     "output_type": "error",
     "traceback": [
      "\u001b[1;31m---------------------------------------------------------------------------\u001b[0m",
      "\u001b[1;31mAttributeError\u001b[0m                            Traceback (most recent call last)",
      "Cell \u001b[1;32mIn[35], line 2\u001b[0m\n\u001b[0;32m      1\u001b[0m \u001b[38;5;28;01mimport\u001b[39;00m\u001b[38;5;250m \u001b[39m\u001b[38;5;21;01mmatplotlib\u001b[39;00m\u001b[38;5;21;01m.\u001b[39;00m\u001b[38;5;21;01mpyplot\u001b[39;00m\u001b[38;5;250m \u001b[39m\u001b[38;5;28;01mas\u001b[39;00m\u001b[38;5;250m \u001b[39m\u001b[38;5;21;01mplt\u001b[39;00m\n\u001b[1;32m----> 2\u001b[0m fig,ax \u001b[38;5;241m=\u001b[39m \u001b[43mplt\u001b[49m\u001b[38;5;241;43m.\u001b[39;49m\u001b[43msubplot\u001b[49m\u001b[43m(\u001b[49m\u001b[43mfigsize\u001b[49m\u001b[38;5;241;43m=\u001b[39;49m\u001b[43m(\u001b[49m\u001b[38;5;241;43m10\u001b[39;49m\u001b[43m,\u001b[49m\u001b[38;5;241;43m5\u001b[39;49m\u001b[43m)\u001b[49m\u001b[43m)\u001b[49m\n\u001b[0;32m      3\u001b[0m df[\u001b[38;5;124m\"\u001b[39m\u001b[38;5;124mCountry\u001b[39m\u001b[38;5;124m\"\u001b[39m]\u001b[38;5;241m.\u001b[39mvalue_counts()\u001b[38;5;241m.\u001b[39msort_values(ascending\u001b[38;5;241m=\u001b[39m\u001b[38;5;28;01mFalse\u001b[39;00m)[:\u001b[38;5;241m20\u001b[39m]\u001b[38;5;241m.\u001b[39mplot(kind\u001b[38;5;241m=\u001b[39m\u001b[38;5;124m'\u001b[39m\u001b[38;5;124mbar\u001b[39m\u001b[38;5;124m'\u001b[39m, figsize\u001b[38;5;241m=\u001b[39m(\u001b[38;5;241m20\u001b[39m, \u001b[38;5;241m10\u001b[39m))\n",
      "File \u001b[1;32mc:\\Users\\bzabk\\AppData\\Local\\Programs\\Python\\Python310\\lib\\site-packages\\matplotlib\\pyplot.py:1556\u001b[0m, in \u001b[0;36msubplot\u001b[1;34m(*args, **kwargs)\u001b[0m\n\u001b[0;32m   1553\u001b[0m         \u001b[38;5;28;01mbreak\u001b[39;00m\n\u001b[0;32m   1554\u001b[0m \u001b[38;5;28;01melse\u001b[39;00m:\n\u001b[0;32m   1555\u001b[0m     \u001b[38;5;66;03m# we have exhausted the known Axes and none match, make a new one!\u001b[39;00m\n\u001b[1;32m-> 1556\u001b[0m     ax \u001b[38;5;241m=\u001b[39m fig\u001b[38;5;241m.\u001b[39madd_subplot(\u001b[38;5;241m*\u001b[39margs, \u001b[38;5;241m*\u001b[39m\u001b[38;5;241m*\u001b[39mkwargs)\n\u001b[0;32m   1558\u001b[0m fig\u001b[38;5;241m.\u001b[39msca(ax)\n\u001b[0;32m   1560\u001b[0m \u001b[38;5;28;01mreturn\u001b[39;00m ax\n",
      "File \u001b[1;32mc:\\Users\\bzabk\\AppData\\Local\\Programs\\Python\\Python310\\lib\\site-packages\\matplotlib\\figure.py:768\u001b[0m, in \u001b[0;36mFigureBase.add_subplot\u001b[1;34m(self, *args, **kwargs)\u001b[0m\n\u001b[0;32m    766\u001b[0m         args \u001b[38;5;241m=\u001b[39m \u001b[38;5;28mtuple\u001b[39m(\u001b[38;5;28mmap\u001b[39m(\u001b[38;5;28mint\u001b[39m, \u001b[38;5;28mstr\u001b[39m(args[\u001b[38;5;241m0\u001b[39m])))\n\u001b[0;32m    767\u001b[0m     projection_class, pkw \u001b[38;5;241m=\u001b[39m \u001b[38;5;28mself\u001b[39m\u001b[38;5;241m.\u001b[39m_process_projection_requirements(\u001b[38;5;241m*\u001b[39m\u001b[38;5;241m*\u001b[39mkwargs)\n\u001b[1;32m--> 768\u001b[0m     ax \u001b[38;5;241m=\u001b[39m projection_class(\u001b[38;5;28mself\u001b[39m, \u001b[38;5;241m*\u001b[39margs, \u001b[38;5;241m*\u001b[39m\u001b[38;5;241m*\u001b[39mpkw)\n\u001b[0;32m    769\u001b[0m     key \u001b[38;5;241m=\u001b[39m (projection_class, pkw)\n\u001b[0;32m    770\u001b[0m \u001b[38;5;28;01mreturn\u001b[39;00m \u001b[38;5;28mself\u001b[39m\u001b[38;5;241m.\u001b[39m_add_axes_internal(ax, key)\n",
      "File \u001b[1;32mc:\\Users\\bzabk\\AppData\\Local\\Programs\\Python\\Python310\\lib\\site-packages\\matplotlib\\axes\\_base.py:740\u001b[0m, in \u001b[0;36m_AxesBase.__init__\u001b[1;34m(self, fig, facecolor, frameon, sharex, sharey, label, xscale, yscale, box_aspect, forward_navigation_events, *args, **kwargs)\u001b[0m\n\u001b[0;32m    737\u001b[0m \u001b[38;5;28;01mif\u001b[39;00m yscale:\n\u001b[0;32m    738\u001b[0m     \u001b[38;5;28mself\u001b[39m\u001b[38;5;241m.\u001b[39mset_yscale(yscale)\n\u001b[1;32m--> 740\u001b[0m \u001b[38;5;28;43mself\u001b[39;49m\u001b[38;5;241;43m.\u001b[39;49m\u001b[43m_internal_update\u001b[49m\u001b[43m(\u001b[49m\u001b[43mkwargs\u001b[49m\u001b[43m)\u001b[49m\n\u001b[0;32m    742\u001b[0m \u001b[38;5;28;01mfor\u001b[39;00m name, axis \u001b[38;5;129;01min\u001b[39;00m \u001b[38;5;28mself\u001b[39m\u001b[38;5;241m.\u001b[39m_axis_map\u001b[38;5;241m.\u001b[39mitems():\n\u001b[0;32m    743\u001b[0m     axis\u001b[38;5;241m.\u001b[39mcallbacks\u001b[38;5;241m.\u001b[39m_connect_picklable(\n\u001b[0;32m    744\u001b[0m         \u001b[38;5;124m'\u001b[39m\u001b[38;5;124munits\u001b[39m\u001b[38;5;124m'\u001b[39m, \u001b[38;5;28mself\u001b[39m\u001b[38;5;241m.\u001b[39m_unit_change_handler(name))\n",
      "File \u001b[1;32mc:\\Users\\bzabk\\AppData\\Local\\Programs\\Python\\Python310\\lib\\site-packages\\matplotlib\\artist.py:1233\u001b[0m, in \u001b[0;36mArtist._internal_update\u001b[1;34m(self, kwargs)\u001b[0m\n\u001b[0;32m   1226\u001b[0m \u001b[38;5;28;01mdef\u001b[39;00m\u001b[38;5;250m \u001b[39m\u001b[38;5;21m_internal_update\u001b[39m(\u001b[38;5;28mself\u001b[39m, kwargs):\n\u001b[0;32m   1227\u001b[0m \u001b[38;5;250m    \u001b[39m\u001b[38;5;124;03m\"\"\"\u001b[39;00m\n\u001b[0;32m   1228\u001b[0m \u001b[38;5;124;03m    Update artist properties without prenormalizing them, but generating\u001b[39;00m\n\u001b[0;32m   1229\u001b[0m \u001b[38;5;124;03m    errors as if calling `set`.\u001b[39;00m\n\u001b[0;32m   1230\u001b[0m \n\u001b[0;32m   1231\u001b[0m \u001b[38;5;124;03m    The lack of prenormalization is to maintain backcompatibility.\u001b[39;00m\n\u001b[0;32m   1232\u001b[0m \u001b[38;5;124;03m    \"\"\"\u001b[39;00m\n\u001b[1;32m-> 1233\u001b[0m     \u001b[38;5;28;01mreturn\u001b[39;00m \u001b[38;5;28;43mself\u001b[39;49m\u001b[38;5;241;43m.\u001b[39;49m\u001b[43m_update_props\u001b[49m\u001b[43m(\u001b[49m\n\u001b[0;32m   1234\u001b[0m \u001b[43m        \u001b[49m\u001b[43mkwargs\u001b[49m\u001b[43m,\u001b[49m\u001b[43m \u001b[49m\u001b[38;5;124;43m\"\u001b[39;49m\u001b[38;5;132;43;01m{cls.__name__}\u001b[39;49;00m\u001b[38;5;124;43m.set() got an unexpected keyword argument \u001b[39;49m\u001b[38;5;124;43m\"\u001b[39;49m\n\u001b[0;32m   1235\u001b[0m \u001b[43m        \u001b[49m\u001b[38;5;124;43m\"\u001b[39;49m\u001b[38;5;132;43;01m{prop_name!r}\u001b[39;49;00m\u001b[38;5;124;43m\"\u001b[39;49m\u001b[43m)\u001b[49m\n",
      "File \u001b[1;32mc:\\Users\\bzabk\\AppData\\Local\\Programs\\Python\\Python310\\lib\\site-packages\\matplotlib\\artist.py:1206\u001b[0m, in \u001b[0;36mArtist._update_props\u001b[1;34m(self, props, errfmt)\u001b[0m\n\u001b[0;32m   1204\u001b[0m             func \u001b[38;5;241m=\u001b[39m \u001b[38;5;28mgetattr\u001b[39m(\u001b[38;5;28mself\u001b[39m, \u001b[38;5;124mf\u001b[39m\u001b[38;5;124m\"\u001b[39m\u001b[38;5;124mset_\u001b[39m\u001b[38;5;132;01m{\u001b[39;00mk\u001b[38;5;132;01m}\u001b[39;00m\u001b[38;5;124m\"\u001b[39m, \u001b[38;5;28;01mNone\u001b[39;00m)\n\u001b[0;32m   1205\u001b[0m             \u001b[38;5;28;01mif\u001b[39;00m \u001b[38;5;129;01mnot\u001b[39;00m \u001b[38;5;28mcallable\u001b[39m(func):\n\u001b[1;32m-> 1206\u001b[0m                 \u001b[38;5;28;01mraise\u001b[39;00m \u001b[38;5;167;01mAttributeError\u001b[39;00m(\n\u001b[0;32m   1207\u001b[0m                     errfmt\u001b[38;5;241m.\u001b[39mformat(\u001b[38;5;28mcls\u001b[39m\u001b[38;5;241m=\u001b[39m\u001b[38;5;28mtype\u001b[39m(\u001b[38;5;28mself\u001b[39m), prop_name\u001b[38;5;241m=\u001b[39mk),\n\u001b[0;32m   1208\u001b[0m                     name\u001b[38;5;241m=\u001b[39mk)\n\u001b[0;32m   1209\u001b[0m             ret\u001b[38;5;241m.\u001b[39mappend(func(v))\n\u001b[0;32m   1210\u001b[0m \u001b[38;5;28;01mif\u001b[39;00m ret:\n",
      "\u001b[1;31mAttributeError\u001b[0m: Axes.set() got an unexpected keyword argument 'figsize'"
     ]
    },
    {
     "data": {
      "text/plain": [
       "<Figure size 640x480 with 0 Axes>"
      ]
     },
     "metadata": {},
     "output_type": "display_data"
    }
   ],
   "source": [
    "import matplotlib.pyplot as plt\n",
    "fig,ax = plt.subplot(figsize=(10,5))\n",
    "df[\"Country\"].value_counts().sort_values(ascending=False)[:20].plot(kind='bar', figsize=(20, 10))"
   ]
  },
  {
   "cell_type": "code",
   "execution_count": 36,
   "metadata": {},
   "outputs": [],
   "source": [
    "df[\"is_at_sign\"] = df[\"OriginalTweet\"].apply(lambda x: \"@\" in x)\n",
    "df[\"how_many_at_signs\"] = df[\"OriginalTweet\"].apply(lambda x: x.count(\"@\"))"
   ]
  },
  {
   "cell_type": "code",
   "execution_count": 52,
   "metadata": {},
   "outputs": [
    {
     "name": "stderr",
     "output_type": "stream",
     "text": [
      "C:\\Users\\bzabk\\AppData\\Local\\Temp\\ipykernel_41280\\154465657.py:12: UserWarning: set_ticklabels() should only be used with a fixed number of ticks, i.e. after set_ticks() or using a FixedLocator.\n",
      "  ax.set_xticklabels([\"does not contains @\",\"contains @\",], horizontalalignment='center',color='#e3dac9')\n",
      "C:\\Users\\bzabk\\AppData\\Local\\Temp\\ipykernel_41280\\154465657.py:13: UserWarning: set_ticklabels() should only be used with a fixed number of ticks, i.e. after set_ticks() or using a FixedLocator.\n",
      "  ax.set_yticklabels(ax.get_yticklabels(),color='#e3dac9')\n"
     ]
    },
    {
     "data": {
      "image/png": "[encoded data removed]",
      "text/plain": [
       "<Figure size 1000x500 with 1 Axes>"
      ]
     },
     "metadata": {},
     "output_type": "display_data"
    }
   ],
   "source": [
    "fig,ax = plt.subplots(figsize=(10,5))\n",
    "sns.countplot(x=\"is_at_sign\", data=df,ax=ax,color='crimson',width=0.3)\n",
    "ax.set_ylabel('')\n",
    "ax.set_ylabel('')\n",
    "ax.set_xlabel('')\n",
    "\n",
    "ax.tick_params(axis='y', colors='#3a3947')\n",
    "ax.tick_params(axis='x', colors='#3a3947')\n",
    "\n",
    "ax.tick_params(axis='y', labelsize=8)\n",
    "\n",
    "ax.set_xticklabels([\"does not contains @\",\"contains @\",], horizontalalignment='center',color='#e3dac9')\n",
    "ax.set_yticklabels(ax.get_yticklabels(),color='#e3dac9')\n",
    "\n",
    "ax.set_facecolor('#3a3947')\n",
    "ax.set_title(\"How many tweets contain @ sign\",color='#e3dac9')\n",
    "ax.spines['left'].set_visible(False)\n",
    "ax.spines['right'].set_visible(False)\n",
    "ax.spines['top'].set_visible(False)\n",
    "ax.spines['bottom'].set_visible(False)\n",
    "ax.set_facecolor('#3a3947')\n",
    "fig.set_facecolor('#3a3947')"
   ]
  },
  {
   "cell_type": "code",
   "execution_count": 51,
   "metadata": {},
   "outputs": [
    {
     "name": "stderr",
     "output_type": "stream",
     "text": [
      "C:\\Users\\bzabk\\AppData\\Local\\Temp\\ipykernel_41280\\1060414077.py:12: UserWarning: set_ticklabels() should only be used with a fixed number of ticks, i.e. after set_ticks() or using a FixedLocator.\n",
      "  ax.set_xticklabels(ax.get_xticklabels(), horizontalalignment='center',color='#e3dac9')\n",
      "C:\\Users\\bzabk\\AppData\\Local\\Temp\\ipykernel_41280\\1060414077.py:13: UserWarning: set_ticklabels() should only be used with a fixed number of ticks, i.e. after set_ticks() or using a FixedLocator.\n",
      "  ax.set_yticklabels(ax.get_yticklabels(),color='#e3dac9')\n"
     ]
    },
    {
     "data": {
      "image/png": "[encoded data removed]",
      "text/plain": [
       "<Figure size 1000x500 with 1 Axes>"
      ]
     },
     "metadata": {},
     "output_type": "display_data"
    }
   ],
   "source": [
    "fig,ax = plt.subplots(figsize=(10,5))\n",
    "sns.countplot(x=\"how_many_at_signs\", data=df,ax=ax,color='crimson')\n",
    "ax.set_ylabel('')\n",
    "ax.set_ylabel('')\n",
    "ax.set_xlabel('')\n",
    "\n",
    "ax.tick_params(axis='y', colors='#3a3947')\n",
    "ax.tick_params(axis='x', colors='#3a3947')\n",
    "\n",
    "ax.tick_params(axis='y', labelsize=8)\n",
    "\n",
    "ax.set_xticklabels(ax.get_xticklabels(), horizontalalignment='center',color='#e3dac9')\n",
    "ax.set_yticklabels(ax.get_yticklabels(),color='#e3dac9')\n",
    "\n",
    "ax.set_facecolor('#3a3947')\n",
    "ax.set_title(\"How many tweets contain @ sign\",color='#e3dac9')\n",
    "ax.spines['left'].set_visible(False)\n",
    "ax.spines['right'].set_visible(False)\n",
    "ax.spines['top'].set_visible(False)\n",
    "ax.spines['bottom'].set_visible(False)\n",
    "ax.set_facecolor('#3a3947')\n",
    "fig.set_facecolor('#3a3947')"
   ]
  },
  {
   "cell_type": "code",
   "execution_count": 55,
   "metadata": {},
   "outputs": [],
   "source": [
    "df[\"is_hashtag\"] = df[\"OriginalTweet\"].apply(lambda x: \"#\" in x)"
   ]
  },
  {
   "cell_type": "code",
   "execution_count": 60,
   "metadata": {},
   "outputs": [
    {
     "name": "stderr",
     "output_type": "stream",
     "text": [
      "C:\\Users\\bzabk\\AppData\\Local\\Temp\\ipykernel_41280\\3968417093.py:12: UserWarning: set_ticklabels() should only be used with a fixed number of ticks, i.e. after set_ticks() or using a FixedLocator.\n",
      "  ax.set_xticklabels(ax.get_xticklabels(), horizontalalignment='center',color='#e3dac9')\n",
      "C:\\Users\\bzabk\\AppData\\Local\\Temp\\ipykernel_41280\\3968417093.py:13: UserWarning: set_ticklabels() should only be used with a fixed number of ticks, i.e. after set_ticks() or using a FixedLocator.\n",
      "  ax.set_yticklabels(ax.get_yticklabels(),color='#e3dac9')\n"
     ]
    },
    {
     "data": {
      "image/png": "[encoded data removed]",
      "text/plain": [
       "<Figure size 1000x500 with 1 Axes>"
      ]
     },
     "metadata": {},
     "output_type": "display_data"
    }
   ],
   "source": [
    "fig,ax = plt.subplots(figsize=(10,5))\n",
    "sns.countplot(x=\"is_hashtag\", data=df,ax=ax,color='crimson',width=0.3)\n",
    "ax.set_ylabel('')\n",
    "ax.set_ylabel('')\n",
    "ax.set_xlabel('')\n",
    "\n",
    "ax.tick_params(axis='y', colors='#3a3947')\n",
    "ax.tick_params(axis='x', colors='#3a3947')\n",
    "\n",
    "ax.tick_params(axis='y', labelsize=8)\n",
    "\n",
    "ax.set_xticklabels(ax.get_xticklabels(), horizontalalignment='center',color='#e3dac9')\n",
    "ax.set_yticklabels(ax.get_yticklabels(),color='#e3dac9')\n",
    "\n",
    "ax.set_facecolor('#3a3947')\n",
    "ax.set_title(\"How many tweets contain # sign\",color='#e3dac9')\n",
    "ax.spines['left'].set_visible(False)\n",
    "ax.spines['right'].set_visible(False)\n",
    "ax.spines['top'].set_visible(False)\n",
    "ax.spines['bottom'].set_visible(False)\n",
    "ax.set_facecolor('#3a3947')\n",
    "fig.set_facecolor('#3a3947')"
   ]
  },
  {
   "cell_type": "code",
   "execution_count": 62,
   "metadata": {},
   "outputs": [
    {
     "name": "stderr",
     "output_type": "stream",
     "text": [
      "C:\\Users\\bzabk\\AppData\\Local\\Temp\\ipykernel_41280\\4150927809.py:13: UserWarning: set_ticklabels() should only be used with a fixed number of ticks, i.e. after set_ticks() or using a FixedLocator.\n",
      "  ax.set_xticklabels(ax.get_xticklabels(), horizontalalignment='center',color='#e3dac9')\n",
      "C:\\Users\\bzabk\\AppData\\Local\\Temp\\ipykernel_41280\\4150927809.py:14: UserWarning: set_ticklabels() should only be used with a fixed number of ticks, i.e. after set_ticks() or using a FixedLocator.\n",
      "  ax.set_yticklabels(ax.get_yticklabels(),color='#e3dac9')\n"
     ]
    },
    {
     "data": {
      "image/png": "[encoded data removed]",
      "text/plain": [
       "<Figure size 1000x500 with 1 Axes>"
      ]
     },
     "metadata": {},
     "output_type": "display_data"
    }
   ],
   "source": [
    "df[\"number_of_hashtags\"] = df[\"OriginalTweet\"].apply(lambda x: x.count(\"#\"))\n",
    "fig,ax = plt.subplots(figsize=(10,5))\n",
    "sns.countplot(x=\"number_of_hashtags\", data=df,ax=ax,color='crimson')\n",
    "ax.set_ylabel('')\n",
    "ax.set_ylabel('')\n",
    "ax.set_xlabel('')\n",
    "\n",
    "ax.tick_params(axis='y', colors='#3a3947')\n",
    "ax.tick_params(axis='x', colors='#3a3947')\n",
    "\n",
    "ax.tick_params(axis='y', labelsize=8)\n",
    "\n",
    "ax.set_xticklabels(ax.get_xticklabels(), horizontalalignment='center',color='#e3dac9')\n",
    "ax.set_yticklabels(ax.get_yticklabels(),color='#e3dac9')\n",
    "\n",
    "ax.set_facecolor('#3a3947')\n",
    "ax.set_title(\"How many tweets contain # sign\",color='#e3dac9')\n",
    "ax.spines['left'].set_visible(False)\n",
    "ax.spines['right'].set_visible(False)\n",
    "ax.spines['top'].set_visible(False)\n",
    "ax.spines['bottom'].set_visible(False)\n",
    "ax.set_facecolor('#3a3947')\n",
    "fig.set_facecolor('#3a3947')"
   ]
  },
  {
   "cell_type": "code",
   "execution_count": 77,
   "metadata": {
    "vscode": {
     "languageId": "ruby"
    }
   },
   "outputs": [
    {
     "name": "stdout",
     "output_type": "stream",
     "text": [
      "Sentiment\n",
      "Extremely Negative     5481\n",
      "Negative               9917\n",
      "Neutral                7713\n",
      "Positive              11422\n",
      "Extremely Positive     6624\n",
      "Name: number_of_hashtags, dtype: int64\n"
     ]
    },
    {
     "name": "stderr",
     "output_type": "stream",
     "text": [
      "C:\\Users\\bzabk\\AppData\\Local\\Temp\\ipykernel_41280\\3479327028.py:16: UserWarning: set_ticklabels() should only be used with a fixed number of ticks, i.e. after set_ticks() or using a FixedLocator.\n",
      "  ax.set_xticklabels(ax.get_xticklabels(), horizontalalignment='center',color='#e3dac9')\n",
      "C:\\Users\\bzabk\\AppData\\Local\\Temp\\ipykernel_41280\\3479327028.py:17: UserWarning: set_ticklabels() should only be used with a fixed number of ticks, i.e. after set_ticks() or using a FixedLocator.\n",
      "  ax.set_yticklabels(ax.get_yticklabels(),color='#e3dac9')\n"
     ]
    },
    {
     "data": {
      "image/png": "[encoded data removed]",
      "text/plain": [
       "<Figure size 1000x500 with 1 Axes>"
      ]
     },
     "metadata": {},
     "output_type": "display_data"
    }
   ],
   "source": [
    "sentiment_per_hashtags = df.groupby(\"Sentiment\")[\"number_of_hashtags\"].count()\n",
    "new_index_order = ['Extremely Negative', 'Negative', 'Neutral', 'Positive', 'Extremely Positive']\n",
    "sentiment_per_hashtags = sentiment_per_hashtags.reindex(new_index_order)\n",
    "print(sentiment_per_hashtags)\n",
    "fig, ax = plt.subplots(figsize=(10,5))\n",
    "sns.barplot(x=sentiment_per_hashtags.index, y=sentiment_per_hashtags.values, ax=ax, color='crimson')\n",
    "ax.set_ylabel('')\n",
    "ax.set_ylabel('')\n",
    "ax.set_xlabel('')\n",
    "\n",
    "ax.tick_params(axis='y', colors='#3a3947')\n",
    "ax.tick_params(axis='x', colors='#3a3947')\n",
    "\n",
    "ax.tick_params(axis='y', labelsize=8)\n",
    "\n",
    "ax.set_xticklabels(ax.get_xticklabels(), horizontalalignment='center',color='#e3dac9')\n",
    "ax.set_yticklabels(ax.get_yticklabels(),color='#e3dac9')\n",
    "\n",
    "ax.set_facecolor('#3a3947')\n",
    "ax.set_title(\"\",color='#e3dac9')\n",
    "ax.spines['left'].set_visible(False)\n",
    "ax.spines['right'].set_visible(False)\n",
    "ax.spines['top'].set_visible(False)\n",
    "ax.spines['bottom'].set_visible(False)\n",
    "ax.set_facecolor('#3a3947')\n",
    "fig.set_facecolor('#3a3947')"
   ]
  },
  {
   "cell_type": "code",
   "execution_count": null,
   "metadata": {},
   "outputs": [],
   "source": []
  },
  {
   "cell_type": "code",
   "execution_count": null,
   "metadata": {},
   "outputs": [],
   "source": []
  }
 ],
 "metadata": {
  "kernelspec": {
   "display_name": "Python 3",
   "language": "python",
   "name": "python3"
  },
  "language_info": {
   "codemirror_mode": {
    "name": "ipython",
    "version": 3
   },
   "file_extension": ".py",
   "mimetype": "text/x-python",
   "name": "python",
   "nbconvert_exporter": "python",
   "pygments_lexer": "ipython3",
   "version": "3.10.11"
  }
 },
 "nbformat": 4,
 "nbformat_minor": 2
}
